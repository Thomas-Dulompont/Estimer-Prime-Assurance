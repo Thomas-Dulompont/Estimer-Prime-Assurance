{
 "cells": [
  {
   "cell_type": "code",
   "execution_count": 1,
   "metadata": {},
   "outputs": [],
   "source": [
    "import pandas as pd\n",
    "import missingno as msno\n",
    "import plotly.express as px\n",
    "import seaborn as sns\n",
    "import numpy as np\n",
    "import matplotlib.pyplot as plt"
   ]
  },
  {
   "cell_type": "code",
   "execution_count": 2,
   "metadata": {},
   "outputs": [],
   "source": [
    "df = pd.read_csv('data.csv')"
   ]
  },
  {
   "cell_type": "code",
   "execution_count": 3,
   "metadata": {},
   "outputs": [],
   "source": [
    "X = df.drop('charges', axis=1)\n",
    "y = df['charges']"
   ]
  },
  {
   "cell_type": "code",
   "execution_count": 13,
   "metadata": {},
   "outputs": [],
   "source": [
    "from sklearn.pipeline import Pipeline\n",
    "from sklearn.metrics import mean_squared_error\n",
    "from sklearn.preprocessing import RobustScaler, OneHotEncoder, StandardScaler, PolynomialFeatures, OrdinalEncoder, LabelEncoder\n",
    "from sklearn.linear_model import LinearRegression, Lasso, ElasticNet, Ridge\n",
    "from sklearn.model_selection import train_test_split\n",
    "from sklearn.compose import ColumnTransformer\n",
    "from sklearn.model_selection import GridSearchCV, RandomizedSearchCV, StratifiedShuffleSplit, ShuffleSplit\n",
    "from math import sqrt\n",
    "\n",
    "\n",
    "X_train, X_test, y_train, y_test = train_test_split(X, y, shuffle=True, train_size=0.85, random_state=0, stratify=X[['children']])\n",
    "#X_train, X_val, y_train, y_val = train_test_split(X_train, y_train, shuffle=True, train_size=0.8, random_state=0, stratify=X_train[['smoker']])\n",
    "\n",
    "cat_var = ['sex', 'smoker', 'region']\n",
    "cat_var_bis = ['cat_imc']\n",
    "num_var = ['age', 'bmi', 'children']\n",
    "\n",
    "cat_transformer_bis = OrdinalEncoder()\n",
    "cat_transformer = OneHotEncoder(handle_unknown='ignore')\n",
    "\n",
    "num_transformer = RobustScaler()\n",
    "\n",
    "encoder = ColumnTransformer(\n",
    "    transformers=[\n",
    "        ('cat', cat_transformer, cat_var),\n",
    "        ('cat_bis', cat_transformer_bis, cat_var_bis),\n",
    "        ('num', num_transformer, num_var)\n",
    "    ]\n",
    ")\n",
    "\n",
    "pipeline = Pipeline([\n",
    "    ('enc', encoder),\n",
    "    ('poly', PolynomialFeatures(degree=2)),\n",
    "    ('model', Lasso()),\n",
    "])"
   ]
  },
  {
   "cell_type": "code",
   "execution_count": 14,
   "metadata": {},
   "outputs": [
    {
     "name": "stderr",
     "output_type": "stream",
     "text": [
      "/Users/thomasdulompont/miniconda3/envs/data-analyse-env/lib/python3.9/site-packages/sklearn/linear_model/_coordinate_descent.py:634: ConvergenceWarning: Objective did not converge. You might want to increase the number of iterations, check the scale of the features or consider increasing regularisation. Duality gap: 5.844e+08, tolerance: 1.540e+07\n",
      "  model = cd_fast.enet_coordinate_descent(\n"
     ]
    },
    {
     "data": {
      "text/plain": [
       "0.8735493060147925"
      ]
     },
     "execution_count": 14,
     "metadata": {},
     "output_type": "execute_result"
    }
   ],
   "source": [
    "pipeline.fit(X_train, y_train)\n",
    "pipeline.score(X_test, y_test)"
   ]
  },
  {
   "cell_type": "code",
   "execution_count": 6,
   "metadata": {},
   "outputs": [],
   "source": [
    "def export_model():\n",
    "    import pickle\n",
    "\n",
    "    pickle_out = open(\"./model/model.pkl\", \"wb\")\n",
    "    pickle.dump(pipeline, pickle_out)\n",
    "    pickle_out.close()"
   ]
  },
  {
   "cell_type": "code",
   "execution_count": 7,
   "metadata": {},
   "outputs": [],
   "source": [
    "# param_grid = {\n",
    "#     \"model__alpha\":np.linspace(170, 230, num=10000),\n",
    "# }\n",
    "# grid_search = RandomizedSearchCV(pipeline, param_grid, cv = 5, n_iter=100)\n",
    "\n",
    "# grid_search.fit(X_val, y_val)\n",
    "# grid_search.best_params_"
   ]
  },
  {
   "cell_type": "code",
   "execution_count": 8,
   "metadata": {},
   "outputs": [],
   "source": [
    "# models = [Lasso(tol=0.01), Ridge(), ElasticNet(), LinearRegression()]\n",
    "\n",
    "# result = {}\n",
    "\n",
    "# for model in models:\n",
    "#     pipeline = Pipeline([\n",
    "#         ('enc', encoder),\n",
    "#         ('poly', PolynomialFeatures(degree=4)),\n",
    "#         ('model', model),\n",
    "#     ])\n",
    "#     param_grid = {\n",
    "#         \"poly__degree\":[1,2,3,4,5,6],\n",
    "#         \"model__alpha\":np.linspace(0.1, 65.0, num=1000),\n",
    "#     }\n",
    "#     if str(model) == \"LinearRegression()\":\n",
    "#         param_grid = {\n",
    "#             \"poly__degree\":[1,2,3,4,5,6]\n",
    "#         }\n",
    "        \n",
    "#     grid_search = RandomizedSearchCV(pipeline, param_grid, cv = 5, n_iter=1000)\n",
    "#     grid_search.fit(X_train, y_train)\n",
    "#     result[f'{str(model)}'] = grid_search.best_params_\n",
    "#     result[f'{str(model)}']['score_train'] = grid_search.best_score_\n",
    "#     result[f'{str(model)}']['score_test'] = grid_search.score(X_test, y_test)\n",
    "#     print(str(model) + \" : \" + str(result[str(model)]))"
   ]
  }
 ],
 "metadata": {
  "kernelspec": {
   "display_name": "data-analyse-env",
   "language": "python",
   "name": "python3"
  },
  "language_info": {
   "codemirror_mode": {
    "name": "ipython",
    "version": 3
   },
   "file_extension": ".py",
   "mimetype": "text/x-python",
   "name": "python",
   "nbconvert_exporter": "python",
   "pygments_lexer": "ipython3",
   "version": "3.9.15 (main, Nov  4 2022, 11:11:31) \n[Clang 12.0.0 ]"
  },
  "orig_nbformat": 4,
  "vscode": {
   "interpreter": {
    "hash": "e040077903ef6eeaa5ac90c1254cd5abaaf5d30f296b3f264e1a83a3f6bea03d"
   }
  }
 },
 "nbformat": 4,
 "nbformat_minor": 2
}
